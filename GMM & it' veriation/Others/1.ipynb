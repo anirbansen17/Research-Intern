{
 "cells": [
  {
   "cell_type": "code",
   "execution_count": 3,
   "metadata": {},
   "outputs": [
    {
     "name": "stdout",
     "output_type": "stream",
     "text": [
      "Majority class: 0\n",
      "Minority classes: 9\n"
     ]
    }
   ],
   "source": [
    "import torch\n",
    "\n",
    "# Load the data\n",
    "features = torch.load('imbalanced_train_features.pt')\n",
    "labels = torch.load('imbalanced_train_labels.pt')\n",
    "\n",
    "# Count occurrences of each class\n",
    "class_counts = torch.bincount(labels)\n",
    "\n",
    "# Find the majority class\n",
    "majority_class = torch.argmax(class_counts).item()\n",
    "majority_count = class_counts[majority_class].item()\n",
    "\n",
    "# Find the minimum count\n",
    "min_count = class_counts[class_counts > 0].min().item()\n",
    "\n",
    "# Find all minority classes\n",
    "minority_classes = (class_counts == min_count).nonzero(as_tuple=True)[0]\n",
    "minority_classes = minority_classes.tolist()\n",
    "\n",
    "# Exclude the majority class from the minority classes list\n",
    "minority_classes = [cls for cls in minority_classes if cls != majority_class]\n",
    "\n",
    "print(f\"Majority class: {majority_class}\")\n",
    "print(f\"Minority classes: {', '.join(map(str, minority_classes))}\")\n"
   ]
  },
  {
   "cell_type": "code",
   "execution_count": 5,
   "metadata": {},
   "outputs": [
    {
     "name": "stdout",
     "output_type": "stream",
     "text": [
      "Majority class: 0\n",
      "Minority classes: 1, 2, 3, 4, 5, 6, 7, 8, 9\n"
     ]
    }
   ],
   "source": [
    "import torch\n",
    "\n",
    "# Load the data\n",
    "features = torch.load('imbalanced_train_features.pt')\n",
    "labels = torch.load('imbalanced_train_labels.pt')\n",
    "\n",
    "# Count occurrences of each class\n",
    "class_counts = torch.bincount(labels)\n",
    "\n",
    "# Find the majority class\n",
    "majority_class = torch.argmax(class_counts).item()\n",
    "\n",
    "# Find all classes\n",
    "all_classes = set(range(len(class_counts)))\n",
    "\n",
    "# Find minority classes (all classes except the majority class)\n",
    "minority_classes = [cls for cls in all_classes if cls != majority_class]\n",
    "\n",
    "print(f\"Majority class: {majority_class}\")\n",
    "print(f\"Minority classes: {', '.join(map(str, minority_classes))}\")\n",
    "\n",
    "\n"
   ]
  },
  {
   "cell_type": "code",
   "execution_count": 1,
   "metadata": {},
   "outputs": [
    {
     "name": "stdout",
     "output_type": "stream",
     "text": [
      "Class 0: 4000 samples\n",
      "Class 1: 2000 samples\n",
      "Class 2: 1000 samples\n",
      "Class 3: 750 samples\n",
      "Class 4: 500 samples\n",
      "Class 5: 350 samples\n",
      "Class 6: 200 samples\n",
      "Class 7: 100 samples\n",
      "Class 8: 60 samples\n",
      "Class 9: 40 samples\n",
      "Majority class: 0\n",
      "Minority classes: 1, 2, 3, 4, 5, 6, 7, 8, 9\n"
     ]
    }
   ],
   "source": [
    "import torch\n",
    "\n",
    "# Load the data\n",
    "features = torch.load('imbalanced_train_features.pt')\n",
    "labels = torch.load('imbalanced_train_labels.pt')\n",
    "\n",
    "# Count occurrences of each class\n",
    "class_counts = torch.bincount(labels)\n",
    "\n",
    "# Find the majority class\n",
    "majority_class = torch.argmax(class_counts).item()\n",
    "\n",
    "# Find all classes\n",
    "all_classes = set(range(len(class_counts)))\n",
    "\n",
    "# Find minority classes (all classes except the majority class)\n",
    "minority_classes = [cls for cls in all_classes if cls != majority_class]\n",
    "\n",
    "# Print all classes with the number of samples\n",
    "for cls, count in enumerate(class_counts):\n",
    "    print(f\"Class {cls}: {count} samples\")\n",
    "\n",
    "print(f\"Majority class: {majority_class}\")\n",
    "print(f\"Minority classes: {', '.join(map(str, minority_classes))}\")\n"
   ]
  }
 ],
 "metadata": {
  "kernelspec": {
   "display_name": "base",
   "language": "python",
   "name": "python3"
  },
  "language_info": {
   "codemirror_mode": {
    "name": "ipython",
    "version": 3
   },
   "file_extension": ".py",
   "mimetype": "text/x-python",
   "name": "python",
   "nbconvert_exporter": "python",
   "pygments_lexer": "ipython3",
   "version": "3.11.7"
  }
 },
 "nbformat": 4,
 "nbformat_minor": 2
}
