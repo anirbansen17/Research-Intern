{
 "cells": [
  {
   "cell_type": "markdown",
   "metadata": {},
   "source": [
    "# Class Imbalancing in Multilayer perceptrons"
   ]
  },
  {
   "cell_type": "code",
   "execution_count": 13,
   "metadata": {},
   "outputs": [],
   "source": [
    "import torch\n",
    "import torch.nn as nn\n",
    "import torch.optim as optim\n",
    "import torch.nn.functional as F\n",
    "from torchvision import datasets, transforms\n",
    "from torch.utils.data import DataLoader, Subset\n",
    "from imblearn.over_sampling import SMOTE\n",
    "import numpy as np"
   ]
  },
  {
   "cell_type": "markdown",
   "metadata": {},
   "source": [
    "### Step 1: Load MNIST dataset"
   ]
  },
  {
   "cell_type": "code",
   "execution_count": 14,
   "metadata": {},
   "outputs": [],
   "source": [
    "transform = transforms.Compose([\n",
    "    transforms.ToTensor(),\n",
    "    transforms.Normalize((0.1307,), (0.3081,))\n",
    "])\n",
    "\n",
    "train_dataset = datasets.MNIST('data', train=True, download=True, transform=transform)\n",
    "test_dataset = datasets.MNIST('data', train=False, transform=transform)"
   ]
  },
  {
   "cell_type": "markdown",
   "metadata": {},
   "source": [
    "### Step 2: Apply imbalancing function for class imbalance"
   ]
  },
  {
   "cell_type": "code",
   "execution_count": 15,
   "metadata": {},
   "outputs": [],
   "source": [
    "# Function to create an imbalanced dataset\n",
    "def get_imbalanced_data(dataset, num_sample_per_class, shuffle=False, random_seed=0):\n",
    "    \"\"\"\n",
    "    Return a list of imbalanced indices from a dataset.\n",
    "    Input: A dataset (e.g., CIFAR-10), num_sample_per_class: list of integers\n",
    "    Output: imbalanced_list\n",
    "    \"\"\"\n",
    "    length = len(dataset)\n",
    "    num_sample_per_class = list(num_sample_per_class)\n",
    "    selected_list = []\n",
    "    indices = list(range(0, length))\n",
    "\n",
    "    if shuffle:\n",
    "        np.random.seed(random_seed)\n",
    "        np.random.shuffle(indices)\n",
    "\n",
    "    for i in range(0, length):\n",
    "        index = indices[i]\n",
    "        _, label = dataset[index]\n",
    "        if num_sample_per_class[label] > 0:\n",
    "            selected_list.append(index)\n",
    "            num_sample_per_class[label] -= 1\n",
    "\n",
    "    return selected_list\n",
    "\n",
    "# Create imbalance in the dataset\n",
    "num_samples = [5000, 3000, 2000, 1000, 500, 200, 100, 50, 20, 10]  \n",
    "imbalanced_indices = get_imbalanced_data(train_dataset, num_samples)\n",
    "train_dataset = Subset(train_dataset, imbalanced_indices)"
   ]
  },
  {
   "cell_type": "markdown",
   "metadata": {},
   "source": [
    "### Step 3: Apply SMOTE for balancing"
   ]
  },
  {
   "cell_type": "code",
   "execution_count": 16,
   "metadata": {},
   "outputs": [],
   "source": [
    "# Note: SMOTE is usually applied on feature vectors, so we'll need to flatten the images\n",
    "# Convert images to numpy arrays for SMOTE\n",
    "train_images = [img.numpy().flatten() for img, _ in train_dataset]\n",
    "train_labels = [label for _, label in train_dataset]\n",
    "\n",
    "smote = SMOTE(random_state=42)\n",
    "train_images_resampled, train_labels_resampled = smote.fit_resample(train_images, train_labels)\n",
    "\n",
    "train_images_resampled = torch.Tensor(np.array(train_images_resampled)).view(-1, 1, 28, 28)\n",
    "train_labels_resampled = torch.LongTensor(train_labels_resampled)"
   ]
  },
  {
   "cell_type": "code",
   "execution_count": 17,
   "metadata": {},
   "outputs": [],
   "source": [
    "# Store flattened vectors for train data\n",
    "X_train = train_images_resampled.view(-1, 28 * 28)\n",
    "Y_train = train_labels_resampled"
   ]
  },
  {
   "cell_type": "markdown",
   "metadata": {},
   "source": [
    "### Step 4: Build CNN & Train"
   ]
  },
  {
   "cell_type": "code",
   "execution_count": 18,
   "metadata": {},
   "outputs": [
    {
     "name": "stdout",
     "output_type": "stream",
     "text": [
      " \n",
      "Training the CNN ... \n",
      "Epoch 1/10, Loss: 0.08041252863250672\n",
      "Epoch 2/10, Loss: 0.008443046596841886\n",
      "Epoch 3/10, Loss: 0.005568267855094746\n",
      "Epoch 4/10, Loss: 0.0030876084698003253\n",
      "Epoch 5/10, Loss: 0.0035641780086456856\n",
      "Epoch 6/10, Loss: 0.002844212014042423\n",
      "Epoch 7/10, Loss: 0.0007680557021931691\n",
      "Epoch 8/10, Loss: 0.0003714925435681198\n",
      "Epoch 9/10, Loss: 0.004911134818668215\n",
      "Epoch 10/10, Loss: 0.0014430014268705508\n"
     ]
    }
   ],
   "source": [
    "class CNN(nn.Module):\n",
    "    def __init__(self):\n",
    "        super(CNN, self).__init__()\n",
    "        self.conv1 = nn.Conv2d(1, 32, kernel_size=3)\n",
    "        self.conv2 = nn.Conv2d(32, 64, kernel_size=3)\n",
    "        self.fc1 = nn.Linear(64 * 5 * 5, 128)\n",
    "        self.fc2 = nn.Linear(128, 10)\n",
    "    \n",
    "    def forward(self, x):\n",
    "        x = F.relu(F.max_pool2d(self.conv1(x), 2))\n",
    "        x = F.relu(F.max_pool2d(self.conv2(x), 2))\n",
    "        x = x.view(-1, 64 * 5 * 5)\n",
    "        x = F.relu(self.fc1(x))\n",
    "        x = self.fc2(x)\n",
    "        return x\n",
    "\n",
    "cnn = CNN()\n",
    "\n",
    "# Define your optimizer and loss function\n",
    "optimizer = optim.Adam(cnn.parameters(), lr=0.001)\n",
    "criterion = nn.CrossEntropyLoss()\n",
    "\n",
    "print(\" \")\n",
    "print(\"Training the CNN ... \")\n",
    "\n",
    "# Train the CNN\n",
    "def train_cnn(model, train_loader, optimizer, criterion, epochs=10):\n",
    "    for epoch in range(epochs):\n",
    "        model.train()\n",
    "        running_loss = 0.0\n",
    "        for data, target in train_loader:\n",
    "            optimizer.zero_grad()\n",
    "            output = model(data)\n",
    "            loss = criterion(output, target)\n",
    "            loss.backward()\n",
    "            optimizer.step()\n",
    "            running_loss += loss.item() * data.size(0)\n",
    "        print(f\"Epoch {epoch+1}/{epochs}, Loss: {running_loss/len(train_loader.dataset)}\")\n",
    "\n",
    "train_loader = DataLoader(list(zip(train_images_resampled, train_labels_resampled)), batch_size=64, shuffle=True)\n",
    "train_cnn(cnn, train_loader, optimizer, criterion)\n",
    "\n",
    "test_images = [img.numpy().flatten() for img, _ in test_dataset]\n",
    "test_labels = [label for _, label in test_dataset]\n",
    "\n",
    "# Convert numpy arrays to a single numpy array for test data\n",
    "test_images = torch.Tensor(np.array(test_images)).view(-1, 1, 28, 28)\n",
    "test_labels = torch.LongTensor(test_labels)"
   ]
  },
  {
   "cell_type": "code",
   "execution_count": 19,
   "metadata": {},
   "outputs": [],
   "source": [
    "# Store flattened vectors for test data\n",
    "X_test = test_images.view(-1, 28 * 28)\n",
    "Y_test = test_labels"
   ]
  },
  {
   "cell_type": "markdown",
   "metadata": {},
   "source": [
    "### Step 5: Build a Multi-layer Perceptron"
   ]
  },
  {
   "cell_type": "code",
   "execution_count": 20,
   "metadata": {},
   "outputs": [
    {
     "name": "stdout",
     "output_type": "stream",
     "text": [
      " \n",
      "Training the MLP ... \n"
     ]
    }
   ],
   "source": [
    "class MLP(nn.Module):\n",
    "    def __init__(self):\n",
    "        super(MLP, self).__init__()\n",
    "        self.fc1 = nn.Linear(28 * 28, 256)\n",
    "        self.fc2 = nn.Linear(256, 128)\n",
    "        self.fc3 = nn.Linear(128, 10)\n",
    "    \n",
    "    def forward(self, x):\n",
    "        x = x.view(-1, 28 * 28)\n",
    "        x = F.relu(self.fc1(x))\n",
    "        x = F.relu(self.fc2(x))\n",
    "        x = self.fc3(x)\n",
    "        return x\n",
    "\n",
    "mlp = MLP()\n",
    "\n",
    "# Define optimizer and loss function\n",
    "optimizer_mlp = optim.Adam(mlp.parameters(), lr=0.001)\n",
    "criterion_mlp = nn.CrossEntropyLoss()\n",
    "\n",
    "print(\" \")\n",
    "print(\"Training the MLP ... \")"
   ]
  },
  {
   "cell_type": "markdown",
   "metadata": {},
   "source": [
    "### Step 7: Apply cross-entropy loss for loss calculation"
   ]
  },
  {
   "cell_type": "code",
   "execution_count": 21,
   "metadata": {},
   "outputs": [
    {
     "name": "stdout",
     "output_type": "stream",
     "text": [
      "Epoch 1/10, Loss: 0.09466223964802921\n",
      "Epoch 2/10, Loss: 0.013806616121723783\n",
      "Epoch 3/10, Loss: 0.008401836839234456\n",
      "Epoch 4/10, Loss: 0.008601906947477256\n",
      "Epoch 5/10, Loss: 0.004532016910217936\n",
      "Epoch 6/10, Loss: 0.005527359090443788\n",
      "Epoch 7/10, Loss: 0.0052575174327231435\n",
      "Epoch 8/10, Loss: 0.00412335330583388\n",
      "Epoch 9/10, Loss: 0.0024656502844864463\n",
      "Epoch 10/10, Loss: 0.0008559695080666643\n"
     ]
    }
   ],
   "source": [
    "# Training the MLP\n",
    "def train_mlp(model, train_loader, optimizer, criterion, epochs=10):\n",
    "    for epoch in range(epochs):\n",
    "        model.train()\n",
    "        running_loss = 0.0\n",
    "        for data, target in train_loader:\n",
    "            optimizer.zero_grad()\n",
    "            output = model(data)\n",
    "            loss = criterion(output, target)\n",
    "            loss.backward()\n",
    "            optimizer.step()\n",
    "            running_loss += loss.item() * data.size(0)\n",
    "        print(f\"Epoch {epoch+1}/{epochs}, Loss: {running_loss/len(train_loader.dataset)}\")\n",
    "\n",
    "train_loader_mlp = DataLoader(list(zip(train_images_resampled, train_labels_resampled)), batch_size=64, shuffle=True)\n",
    "train_mlp(mlp, train_loader_mlp, optimizer_mlp, criterion_mlp)\n"
   ]
  },
  {
   "cell_type": "markdown",
   "metadata": {},
   "source": [
    "### Step 8: Calculate final accuracy"
   ]
  },
  {
   "cell_type": "code",
   "execution_count": 22,
   "metadata": {},
   "outputs": [
    {
     "name": "stdout",
     "output_type": "stream",
     "text": [
      " \n",
      "MLP Test Accuracy: 80.25999999999999\n"
     ]
    }
   ],
   "source": [
    "def test(model, test_loader):\n",
    "    model.eval()\n",
    "    correct = 0\n",
    "    total = 0\n",
    "    with torch.no_grad():\n",
    "        for data, target in test_loader:\n",
    "            output = model(data)\n",
    "            _, predicted = torch.max(output.data, 1)\n",
    "            total += target.size(0)\n",
    "            correct += (predicted == target).sum().item()\n",
    "    accuracy = correct / total\n",
    "    return accuracy\n",
    "\n",
    "test_loader_mlp = DataLoader(list(zip(test_images, test_labels)), batch_size=64, shuffle=False)\n",
    "accuracy = test(mlp, test_loader_mlp)\n",
    "print(\" \")\n",
    "print(f\"MLP Test Accuracy: {accuracy*100}\")"
   ]
  }
 ],
 "metadata": {
  "kernelspec": {
   "display_name": "base",
   "language": "python",
   "name": "python3"
  },
  "language_info": {
   "codemirror_mode": {
    "name": "ipython",
    "version": 3
   },
   "file_extension": ".py",
   "mimetype": "text/x-python",
   "name": "python",
   "nbconvert_exporter": "python",
   "pygments_lexer": "ipython3",
   "version": "3.8.5"
  }
 },
 "nbformat": 4,
 "nbformat_minor": 2
}
