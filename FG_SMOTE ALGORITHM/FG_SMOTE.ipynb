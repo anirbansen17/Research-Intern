{
 "cells": [
  {
   "cell_type": "markdown",
   "metadata": {},
   "source": [
    "# FG_SMOTE ALGORITHM"
   ]
  },
  {
   "cell_type": "markdown",
   "metadata": {},
   "source": [
    "Algorithm contains \\\n",
    "\n",
    "    1. Levenshtein Distance Calculation:\n",
    "        ∙Calculates the distance between two strings.\n",
    "    \n",
    "    2. Gaussian SMOTE:\n",
    "        ∙Generates synthetic samples for the minority class using Gaussian noise.\n",
    "    \n",
    "    3. Fuzzy-Based Gaussian SMOTE:\n",
    "        ∙Filters synthetic samples based on Levenshtein distance."
   ]
  },
  {
   "cell_type": "markdown",
   "metadata": {},
   "source": [
    "### Implementation of Levenshtein Distance Calculation\n",
    "\n",
    "The Levenshtein distance is a metric for measuring the difference between two sequences."
   ]
  },
  {
   "cell_type": "code",
   "execution_count": 1,
   "metadata": {},
   "outputs": [],
   "source": [
    "import numpy as np\n",
    "\n",
    "def levenshtein_distance(s1, s2):\n",
    "    len_s1, len_s2 = len(s1), len(s2)\n",
    "    matrix = np.zeros((len_s1 + 1, len_s2 + 1))\n",
    "\n",
    "    for i in range(len_s1 + 1):\n",
    "        matrix[i][0] = i\n",
    "    for j in range(len_s2 + 1):\n",
    "        matrix[0][j] = j\n",
    "\n",
    "    for i in range(1, len_s1 + 1):\n",
    "        for j in range(1, len_s2 + 1):\n",
    "            if s1[i - 1] == s2[j - 1]:\n",
    "                cost = 0\n",
    "            else:\n",
    "                cost = 1\n",
    "            matrix[i][j] = min(matrix[i - 1][j] + 1,      # Deletion\n",
    "                               matrix[i][j - 1] + 1,      # Insertion\n",
    "                               matrix[i - 1][j - 1] + cost) # Substitution\n",
    "    return matrix[len_s1][len_s2]\n"
   ]
  },
  {
   "cell_type": "markdown",
   "metadata": {},
   "source": [
    "### Implementation of Gaussian SMOTE\n",
    "\n",
    "Gaussian SMOTE is used to generate synthetic samples in the feature space and After generating synthetic samples using Gaussian SMOTE, the fuzzy-based filtering step aims to refine the quality of these sample."
   ]
  },
  {
   "cell_type": "code",
   "execution_count": 12,
   "metadata": {},
   "outputs": [
    {
     "name": "stdout",
     "output_type": "stream",
     "text": [
      "Number of minority class samples in original dataset: 100\n",
      "Original dataset shape: (1000, 20) (1000,)\n",
      "Resampled dataset shape: (1010, 20) (1010,)\n",
      "Number of synthetic samples generated: 10\n",
      "Number of samples in minority class after resampling: 110\n"
     ]
    }
   ],
   "source": [
    "from sklearn.neighbors import NearestNeighbors\n",
    "from sklearn.utils import resample\n",
    "import numpy as np\n",
    "\n",
    "def gaussian_smote(X, y, minority_class, N=100, k=5):\n",
    "    # Extract the minority class samples\n",
    "    X_minority = X[y == minority_class]\n",
    "    \n",
    "    # Fit the Nearest Neighbors model\n",
    "    nn = NearestNeighbors(n_neighbors=k)\n",
    "    nn.fit(X_minority)\n",
    "    \n",
    "    # Generate synthetic samples\n",
    "    synthetic_samples = []\n",
    "    for _ in range(N):\n",
    "        # Randomly select a minority class sample\n",
    "        sample_idx = np.random.randint(0, len(X_minority))\n",
    "        sample = X_minority[sample_idx]\n",
    "        \n",
    "        # Find its nearest neighbors\n",
    "        neighbors = nn.kneighbors([sample], return_distance=False)[0]\n",
    "        \n",
    "        # Randomly select one of the neighbors\n",
    "        neighbor_idx = np.random.choice(neighbors)\n",
    "        neighbor = X_minority[neighbor_idx]\n",
    "        \n",
    "        # Generate a synthetic sample\n",
    "        diff = neighbor - sample\n",
    "        synthetic_sample = sample + diff * np.random.rand() + np.random.normal(0, 0.1, size=sample.shape)\n",
    "        synthetic_samples.append(synthetic_sample)\n",
    "    \n",
    "    return np.array(synthetic_samples)\n",
    "\n",
    "def fuzzy_based_gaussian_smote(X, y, minority_class, threshold=0.5, N=100, k=5):\n",
    "    # Step 1: Generate synthetic samples using Gaussian SMOTE\n",
    "    synthetic_samples = gaussian_smote(X, y, minority_class, N, k)\n",
    "    \n",
    "    # Combine original and synthetic samples\n",
    "    X_combined = np.vstack((X, synthetic_samples))\n",
    "    y_combined = np.hstack((y, [minority_class] * len(synthetic_samples)))\n",
    "    \n",
    "    # Step 2-5: Apply Levenshtein distance to filter samples\n",
    "    filtered_samples = []\n",
    "    for sample in synthetic_samples:\n",
    "        # Find nearest neighbor in the original minority class samples\n",
    "        distances = [levenshtein_distance(sample, x) for x in X[y == minority_class]]\n",
    "        nearest_distance = min(distances)\n",
    "        \n",
    "        # Filter based on threshold\n",
    "        if nearest_distance > threshold:\n",
    "            filtered_samples.append(sample)\n",
    "\n",
    "        X_res = np.vstack([X, np.array(filtered_samples)])\n",
    "        y_res = np.hstack([y, np.full(len(filtered_samples), minority_class)])\n",
    "    \n",
    "    return X_res, y_res\n",
    "\n",
    "\n",
    "# Usage example\n",
    "from sklearn.datasets import make_classification\n",
    "X, y = make_classification(n_samples=1000, n_features=20, n_informative=2, n_redundant=10, \n",
    "                           n_clusters_per_class=1, weights=[0.9, 0.1], flip_y=0, random_state=42)\n",
    "\n",
    "minority_class = 1\n",
    "synthetic_samples = fuzzy_based_gaussian_smote(X, y, minority_class)\n",
    "\n",
    "# Define the total number of synthetic samples to generate\n",
    "# Apply FG-SMOTE\n",
    "minority_class = 1\n",
    "X_res, y_res = fuzzy_based_gaussian_smote(X, y, minority_class=1 , N=10)   #(e.g., make minority class 1:1 balanced)\n",
    "\n",
    "minority_count = np.sum(y == minority_class)\n",
    "print(\"Number of minority class samples in original dataset:\", minority_count)\n",
    "\n",
    "print(\"Original dataset shape:\", X.shape, y.shape)\n",
    "print(\"Resampled dataset shape:\", X_res.shape, y_res.shape)\n",
    "\n",
    "print(f\"Number of synthetic samples generated: {len(X_res) - len(X)}\")\n",
    "print(\"Number of samples in minority class after resampling:\", np.sum(y_res == minority_class))\n"
   ]
  }
 ],
 "metadata": {
  "kernelspec": {
   "display_name": "base",
   "language": "python",
   "name": "python3"
  },
  "language_info": {
   "codemirror_mode": {
    "name": "ipython",
    "version": 3
   },
   "file_extension": ".py",
   "mimetype": "text/x-python",
   "name": "python",
   "nbconvert_exporter": "python",
   "pygments_lexer": "ipython3",
   "version": "3.11.7"
  }
 },
 "nbformat": 4,
 "nbformat_minor": 2
}
